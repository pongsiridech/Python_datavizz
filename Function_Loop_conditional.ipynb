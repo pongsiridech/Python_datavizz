{
 "cells": [
  {
   "cell_type": "markdown",
   "metadata": {},
   "source": [
    "# Function\n",
    "### print ชื่อ XXX นามสกุล YYY รหัส ZZZ\n",
    "### print เกรด วิชา Stat 1 >> AAA"
   ]
  },
  {
   "cell_type": "markdown",
   "metadata": {},
   "source": [
    "# เป็นการยกตัวอย่างการใช้ String "
   ]
  },
  {
   "cell_type": "code",
   "execution_count": 3,
   "metadata": {},
   "outputs": [
    {
     "name": "stdout",
     "output_type": "stream",
     "text": [
      "ชื่อ พงศ์ศิริเดช นามสกุล ศิลปษา รหัส 603021874-8\n"
     ]
    }
   ],
   "source": [
    "a ='ชื่อ พงศ์ศิริเดช นามสกุล ศิลปษา รหัส 603021874-8'\n",
    "print(a)"
   ]
  },
  {
   "cell_type": "code",
   "execution_count": 4,
   "metadata": {},
   "outputs": [
    {
     "name": "stdout",
     "output_type": "stream",
     "text": [
      "ชื่อ พงศ์ศิริเดช นามสกุล ศิลปษา รหัส 603021874-8\n"
     ]
    }
   ],
   "source": [
    "name = 'พงศ์ศิริเดช'\n",
    "surname = 'ศิลปษา'\n",
    "ID = '603021874-8'\n",
    "\n",
    "b = f'ชื่อ {name} นามสกุล {surname} รหัส {ID}'\n",
    "print(b)"
   ]
  },
  {
   "cell_type": "markdown",
   "metadata": {},
   "source": [
    "# Function template\n",
    "\n",
    "### รูปแบบของการสร้างก์ชั่นเพื่อใช้งาน ใช้คำว่า def ตามด้วย ชื่อฟังก์ชั่นที่ต้องการ (ชื่อฟังก์ชั่นที่สร้างต้องไม่ซ้ำกับ ฟังก์ชั่นที่ไพทอนสร้างไว้ให้)"
   ]
  },
  {
   "cell_type": "markdown",
   "metadata": {},
   "source": [
    "  ```python\n",
    "  def function_name(x):\n",
    "        do_someting\n",
    "        return y\n",
    "```"
   ]
  },
  {
   "cell_type": "markdown",
   "metadata": {},
   "source": [
    "### normal function\n",
    "### เป็นการยกตัวอย่างการใช้ Function ในการเรียกผลลัพธ์ ชื่อ นามสกุล รหัส โดยใช้คำสั่งดังนี้"
   ]
  },
  {
   "cell_type": "code",
   "execution_count": 8,
   "metadata": {},
   "outputs": [],
   "source": [
    "def print_line1(name1,surname1,ID1):\n",
    "    st = f'ชื่อ {name1} นามสกุล {surname1} รหัส {ID1}'\n",
    "    return st"
   ]
  },
  {
   "cell_type": "code",
   "execution_count": 9,
   "metadata": {},
   "outputs": [
    {
     "name": "stdout",
     "output_type": "stream",
     "text": [
      "ชื่อ ลั่นฟ้า นามสกุล บุญรอด รหัส 603021874-8\n"
     ]
    }
   ],
   "source": [
    "print(print_line1('ลั่นฟ้า','บุญรอด', '603021874-8'))"
   ]
  },
  {
   "cell_type": "markdown",
   "metadata": {},
   "source": [
    "### สามารถเปลี่ยน คำสั่ง return เป็น print()ได้ เมื่อต้องการเพิ่มคำสั่งเข้าไปในฟังชั่นอีก ดังเช่นตัวอย่างนี้ ที่เพิ่มคำสั่ง st2 = f'เกรดวิชา stat1 >>> {grade}'"
   ]
  },
  {
   "cell_type": "code",
   "execution_count": 16,
   "metadata": {},
   "outputs": [],
   "source": [
    "def print_2line(name1,surname1,ID1,grade):\n",
    "    st = f'ชื่อ {name1} นามสกุล {surname1} รหัส {ID1}'\n",
    "    print(st)\n",
    "    st2 = f'เกรดวิชา stat1 >>> {grade}'\n",
    "    print(st2)"
   ]
  },
  {
   "cell_type": "code",
   "execution_count": 17,
   "metadata": {},
   "outputs": [
    {
     "name": "stdout",
     "output_type": "stream",
     "text": [
      "ชื่อ ลั่นฟ้า นามสกุล บุญรอด รหัส 603021874-8\n",
      "เกรดวิชา stat1 >>> A\n"
     ]
    }
   ],
   "source": [
    "print_2line('ลั่นฟ้า','บุญรอด','603021874-8','A')"
   ]
  },
  {
   "cell_type": "code",
   "execution_count": 20,
   "metadata": {},
   "outputs": [
    {
     "name": "stdout",
     "output_type": "stream",
     "text": [
      "ชื่อ พงศ์ศิริเดช นามสกุล ศิลปษา รหัส 603021874-8\n",
      "เกรดวิชา stat1 >>> A\n",
      "ชื่อ ลั่นฟ้า นามสกุล บุญรอด รหัส 603021885-3\n",
      "เกรดวิชา stat1 >>> A\n",
      "ชื่อ ภานรินทร์ นามสกุล อิ่นแก้ว รหัส 603021110-2\n",
      "เกรดวิชา stat1 >>> A\n",
      "ชื่อ กาญจนา นามสกุล ประสาคุณ รหัส 603021855-2\n",
      "เกรดวิชา stat1 >>> A\n"
     ]
    }
   ],
   "source": [
    "print_2line('พงศ์ศิริเดช','ศิลปษา','603021874-8','A')\n",
    "print_2line('ลั่นฟ้า','บุญรอด','603021885-3','A')\n",
    "print_2line('ภานรินทร์','อิ่นแก้ว','603021110-2','A')\n",
    "print_2line('กาญจนา','ประสาคุณ','603021855-2','A')"
   ]
  },
  {
   "cell_type": "markdown",
   "metadata": {},
   "source": [
    "### ในการใช้ Function เมื่อใช้คำสั่ง return แล้วหลังจากนั้นไม่ว่าจะใส่คำสั่งอะไรก็จะไม่มีผลลัพธ์ออกมา"
   ]
  },
  {
   "cell_type": "code",
   "execution_count": 1,
   "metadata": {},
   "outputs": [],
   "source": [
    "def print_2line_er(name1,surname1,ID1,grade):\n",
    "    st = f'ชื่อ {name1} นามสกุล {surname1} รหัส {ID1}'\n",
    "    return st\n",
    "    st2 = f'เกรดวิชา stat1 >>> {grade}'\n",
    "    print(st2)"
   ]
  },
  {
   "cell_type": "markdown",
   "metadata": {},
   "source": [
    "### *จะเห็นได้ว่า ผลลัพธ์ที่ออกมา ไม่ได้แสดงเกรดออกมาด้วย"
   ]
  },
  {
   "cell_type": "code",
   "execution_count": 23,
   "metadata": {},
   "outputs": [
    {
     "data": {
      "text/plain": [
       "'ชื่อ ลั่นฟ้า นามสกุล บุญรอด รหัส 603021874-8'"
      ]
     },
     "execution_count": 23,
     "metadata": {},
     "output_type": "execute_result"
    }
   ],
   "source": [
    "print_2line_er('ลั่นฟ้า','บุญรอด','603021874-8','A')"
   ]
  },
  {
   "cell_type": "markdown",
   "metadata": {},
   "source": [
    "# function without input"
   ]
  },
  {
   "cell_type": "code",
   "execution_count": 24,
   "metadata": {},
   "outputs": [],
   "source": [
    "def two_x_three():\n",
    "    x = 2*3\n",
    "    return x"
   ]
  },
  {
   "cell_type": "code",
   "execution_count": 25,
   "metadata": {},
   "outputs": [
    {
     "data": {
      "text/plain": [
       "6"
      ]
     },
     "execution_count": 25,
     "metadata": {},
     "output_type": "execute_result"
    }
   ],
   "source": [
    "two_x_three()"
   ]
  },
  {
   "cell_type": "markdown",
   "metadata": {},
   "source": [
    "# function with default argument"
   ]
  },
  {
   "cell_type": "code",
   "execution_count": 27,
   "metadata": {},
   "outputs": [],
   "source": [
    "def print_2line_default(name1,surname1,ID1,grade='F'):\n",
    "    st = f'ชื่อ {name1} นามสกุล {surname1} รหัส {ID1}'\n",
    "    print(st)\n",
    "    st2 = f'เกรดวิชา stat1 >>> {grade}'\n",
    "    print(st2)"
   ]
  },
  {
   "cell_type": "markdown",
   "metadata": {},
   "source": [
    "## หากไม่ใส่เกรด เกรดจะเป็น F ให้ทันที"
   ]
  },
  {
   "cell_type": "code",
   "execution_count": 29,
   "metadata": {},
   "outputs": [
    {
     "name": "stdout",
     "output_type": "stream",
     "text": [
      "ชื่อ ลั่นฟ้า นามสกุล บุญรอด รหัส 603021874-8\n",
      "เกรดวิชา stat1 >>> F\n"
     ]
    }
   ],
   "source": [
    "print_2line_default('ลั่นฟ้า','บุญรอด','603021874-8')"
   ]
  },
  {
   "cell_type": "code",
   "execution_count": 30,
   "metadata": {},
   "outputs": [
    {
     "name": "stdout",
     "output_type": "stream",
     "text": [
      "ชื่อ ลั่นฟ้า นามสกุล บุญรอด รหัส 603021874-8\n",
      "เกรดวิชา stat1 >>> A\n"
     ]
    }
   ],
   "source": [
    "print_2line_default('ลั่นฟ้า','บุญรอด','603021874-8','A')"
   ]
  },
  {
   "cell_type": "code",
   "execution_count": 34,
   "metadata": {},
   "outputs": [
    {
     "name": "stdout",
     "output_type": "stream",
     "text": [
      "ชื่อ บุญรอด นามสกุล ลั่นฟ้า รหัส 603021874-8\n",
      "เกรดวิชา stat1 >>> F\n"
     ]
    }
   ],
   "source": [
    "print_2line_default(surname1 ='ลั่นฟ้า',name1 ='บุญรอด', ID1 ='603021874-8')"
   ]
  },
  {
   "cell_type": "markdown",
   "metadata": {},
   "source": [
    "# loop (วนซ้ำ)\n",
    "## คำสั่ง for  เป็นคำสั่งวนซ้ำที่ใช้ควบคุมการทำงานซ้ำๆ ในจำนวนรอบที่แน่นอน"
   ]
  },
  {
   "cell_type": "markdown",
   "metadata": {},
   "source": [
    "```python\n",
    "for each_member in listA:\n",
    "    do something\n",
    "```"
   ]
  },
  {
   "cell_type": "markdown",
   "metadata": {},
   "source": [
    "### ตัวอย่างการใช้คำสั่ง for ในการวนซ้ำค่าของ i เมื่อ i คือ [1,2,3]"
   ]
  },
  {
   "cell_type": "code",
   "execution_count": 35,
   "metadata": {},
   "outputs": [
    {
     "name": "stdout",
     "output_type": "stream",
     "text": [
      "1\n",
      "2\n",
      "3\n"
     ]
    }
   ],
   "source": [
    "for i in [1,2,3]:\n",
    "    print(i)"
   ]
  },
  {
   "cell_type": "markdown",
   "metadata": {},
   "source": [
    "### ตัวอย่างการใช้คำสั่ง for ในการวนซ้ำค่าของ i เมื่อ i คือ 'pongsiridech' และเพิ่มคำสั่ง (f'{i}-> /') เพื่อให้ผลลัพธ์แสดงสัญลักษณ์  -> /  ออกมาด้วย "
   ]
  },
  {
   "cell_type": "code",
   "execution_count": 38,
   "metadata": {},
   "outputs": [
    {
     "name": "stdout",
     "output_type": "stream",
     "text": [
      "p-> /\n",
      "o-> /\n",
      "n-> /\n",
      "g-> /\n",
      "s-> /\n",
      "i-> /\n",
      "r-> /\n",
      "i-> /\n",
      "d-> /\n",
      "e-> /\n",
      "c-> /\n",
      "h-> /\n"
     ]
    }
   ],
   "source": [
    "for i in 'pongsiridech':\n",
    "    print(f'{i}-> /')\n",
    "   "
   ]
  },
  {
   "cell_type": "markdown",
   "metadata": {},
   "source": [
    "### ตัวอย่างการใช้คำสั่ง for ในการวนซ้ำค่าของ i เมื่อ i คือ 'pongsiridech' และใช้คำสั่ง print(f'{i}-> /') เพื่อให้ผลลัพธ์แสดงสัญลักษณ์  -> /  ออกมา จากนั้นจึงเพิ่มคำสั่ง print('  ') อีกครั้งเพื่อให้ผลลัพธ์เกิดการเว้นวรรค"
   ]
  },
  {
   "cell_type": "code",
   "execution_count": 39,
   "metadata": {},
   "outputs": [
    {
     "name": "stdout",
     "output_type": "stream",
     "text": [
      "p-> /\n",
      " \n",
      "o-> /\n",
      " \n",
      "n-> /\n",
      " \n",
      "g-> /\n",
      " \n",
      "s-> /\n",
      " \n",
      "i-> /\n",
      " \n",
      "r-> /\n",
      " \n",
      "i-> /\n",
      " \n",
      "d-> /\n",
      " \n",
      "e-> /\n",
      " \n",
      "c-> /\n",
      " \n",
      "h-> /\n",
      " \n"
     ]
    }
   ],
   "source": [
    "for i in 'pongsiridech':\n",
    "    print(f'{i}-> /')\n",
    "    print(' ')"
   ]
  },
  {
   "cell_type": "markdown",
   "metadata": {},
   "source": [
    "## 1 สร้าง list ชื่อเพื่อน ที่อยู่ในแถวยาวเดียวกัน \n",
    "## 1.5 สร้าง function print ประโยคว่า xxxเรา yyyความรู้สึก zzzเพื่อน ทุกคนในแถว\n",
    "## 2 วน loop เรียกฟังชั่น"
   ]
  },
  {
   "cell_type": "code",
   "execution_count": null,
   "metadata": {},
   "outputs": [],
   "source": []
  },
  {
   "cell_type": "markdown",
   "metadata": {},
   "source": [
    "### ตัวอย่างการใช้คำสั่ง for ในการวนซ้ำค่าของ i เมื่อ i คือ ['แบงค์','ไอซ์','ฟาง','เกต','โด้','นัท','นกยูง','บอส'] จากนั้นใช้คำสั่ง print(f'แบงค์ ชื่นชอบ {i}') เพื่อแสดงผลลัพธ์ออกมา"
   ]
  },
  {
   "cell_type": "code",
   "execution_count": 40,
   "metadata": {},
   "outputs": [
    {
     "name": "stdout",
     "output_type": "stream",
     "text": [
      "แบงค์ ชื่นชอบ แบงค์\n",
      "แบงค์ ชื่นชอบ ไอซ์\n",
      "แบงค์ ชื่นชอบ ฟาง\n",
      "แบงค์ ชื่นชอบ เกต\n",
      "แบงค์ ชื่นชอบ โด้\n",
      "แบงค์ ชื่นชอบ นัท\n",
      "แบงค์ ชื่นชอบ นกยูง\n",
      "แบงค์ ชื่นชอบ บอส\n"
     ]
    }
   ],
   "source": [
    "\n",
    "for i in ['แบงค์','ไอซ์','ฟาง','เกต','โด้','นัท','นกยูง','บอส']:\n",
    "    print(f'แบงค์ ชื่นชอบ {i}')"
   ]
  },
  {
   "cell_type": "markdown",
   "metadata": {},
   "source": [
    "# Function in loop\n",
    "### เป็นการใช้ function เพื่อช่วยในการวนลูป\n",
    "\n"
   ]
  },
  {
   "cell_type": "markdown",
   "metadata": {},
   "source": [
    "## ดังตัวอย่างต่อไปนี้"
   ]
  },
  {
   "cell_type": "markdown",
   "metadata": {},
   "source": [
    "### เริ่มต้นด้วยการสร้างไฟล์ friend_list ขึ้นมา"
   ]
  },
  {
   "cell_type": "code",
   "execution_count": 4,
   "metadata": {},
   "outputs": [],
   "source": [
    " friend_list = ['ไอซ์','ฟาง','เกต','โด้','นัท','นกยูง','บอส']"
   ]
  },
  {
   "cell_type": "markdown",
   "metadata": {},
   "source": [
    "### จากนั้นใช้คำสั่ง def ในการสร้างฟังค์ชั่น ด้วยการตั้งชื่อฟังค์ชั่นก่อน (*ในกรณีนี้ฟังค์ชั่นชื่อ คือ print_feeling(I,feeling,friend)*) จากนั้นให้กำหนดว่าฟังค์ชั่นเราจะทำอะไร"
   ]
  },
  {
   "cell_type": "code",
   "execution_count": 81,
   "metadata": {},
   "outputs": [],
   "source": [
    "def print_feeling(I,feeling,friend):\n",
    "    print(f'{I} {feeling} {friend}')"
   ]
  },
  {
   "cell_type": "code",
   "execution_count": 73,
   "metadata": {},
   "outputs": [
    {
     "name": "stdout",
     "output_type": "stream",
     "text": [
      "bank love ice\n"
     ]
    }
   ],
   "source": [
    "print_feeling('bank','love','ice')"
   ]
  },
  {
   "cell_type": "code",
   "execution_count": null,
   "metadata": {},
   "outputs": [],
   "source": [
    "### ต่อมาใช้คำสั่ง For ในการทำให้ผลลัพธ์ที่ได้จาก function "
   ]
  },
  {
   "cell_type": "code",
   "execution_count": 83,
   "metadata": {},
   "outputs": [
    {
     "name": "stdout",
     "output_type": "stream",
     "text": [
      "bank love ไอซ์\n",
      "bank love ฟาง\n",
      "bank love เกต\n",
      "bank love โด้\n",
      "bank love นัท\n",
      "bank love นกยูง\n",
      "bank love บอส\n"
     ]
    }
   ],
   "source": [
    "for f in friend_list:\n",
    "    print_feeling('bank','love',f)"
   ]
  },
  {
   "cell_type": "markdown",
   "metadata": {},
   "source": [
    "### loop in loop\n",
    "### การใช้คำสั่ง For สามารถใช้ซ้ำกันได้อีก"
   ]
  },
  {
   "cell_type": "code",
   "execution_count": 97,
   "metadata": {},
   "outputs": [
    {
     "name": "stdout",
     "output_type": "stream",
     "text": [
      "ไอซ์ love ไอซ์\n",
      "ไอซ์ love ฟาง\n",
      "ไอซ์ love เกต\n",
      "ไอซ์ love โด้\n",
      "ไอซ์ love นัท\n",
      "ไอซ์ love นกยูง\n",
      "ไอซ์ love บอส\n",
      "ฟาง love ไอซ์\n",
      "ฟาง love ฟาง\n",
      "ฟาง love เกต\n",
      "ฟาง love โด้\n",
      "ฟาง love นัท\n",
      "ฟาง love นกยูง\n",
      "ฟาง love บอส\n",
      "เกต love ไอซ์\n",
      "เกต love ฟาง\n",
      "เกต love เกต\n",
      "เกต love โด้\n",
      "เกต love นัท\n",
      "เกต love นกยูง\n",
      "เกต love บอส\n",
      "โด้ love ไอซ์\n",
      "โด้ love ฟาง\n",
      "โด้ love เกต\n",
      "โด้ love โด้\n",
      "โด้ love นัท\n",
      "โด้ love นกยูง\n",
      "โด้ love บอส\n",
      "นัท love ไอซ์\n",
      "นัท love ฟาง\n",
      "นัท love เกต\n",
      "นัท love โด้\n",
      "นัท love นัท\n",
      "นัท love นกยูง\n",
      "นัท love บอส\n",
      "นกยูง love ไอซ์\n",
      "นกยูง love ฟาง\n",
      "นกยูง love เกต\n",
      "นกยูง love โด้\n",
      "นกยูง love นัท\n",
      "นกยูง love นกยูง\n",
      "นกยูง love บอส\n",
      "บอส love ไอซ์\n",
      "บอส love ฟาง\n",
      "บอส love เกต\n",
      "บอส love โด้\n",
      "บอส love นัท\n",
      "บอส love นกยูง\n",
      "บอส love บอส\n"
     ]
    }
   ],
   "source": [
    "for name1 in friend_list:\n",
    "    for name2 in friend_list:\n",
    "        print_feeling(name1,'love',name2)"
   ]
  },
  {
   "cell_type": "markdown",
   "metadata": {},
   "source": [
    "# loop in function\n",
    "### การใช้คำสั่งเพื่อวนลูปในฟังค์ชั่น "
   ]
  },
  {
   "cell_type": "code",
   "execution_count": 87,
   "metadata": {},
   "outputs": [],
   "source": [
    "def print_feelings(I,feeling,friends):\n",
    "    for friend in friends:\n",
    "        print(f'{I} {feeling} {friend}')"
   ]
  },
  {
   "cell_type": "code",
   "execution_count": 88,
   "metadata": {},
   "outputs": [
    {
     "name": "stdout",
     "output_type": "stream",
     "text": [
      "bank love ไอซ์\n",
      "bank love ฟาง\n",
      "bank love เกต\n",
      "bank love โด้\n",
      "bank love นัท\n",
      "bank love นกยูง\n",
      "bank love บอส\n"
     ]
    }
   ],
   "source": [
    "print_feelings('bank','love', friend_list)"
   ]
  },
  {
   "cell_type": "markdown",
   "metadata": {},
   "source": [
    "# looping in dict\n",
    "### การใช้คำสั่งวนลูป ในdict"
   ]
  },
  {
   "cell_type": "code",
   "execution_count": 91,
   "metadata": {},
   "outputs": [
    {
     "data": {
      "text/plain": [
       "{'พงศ์ศิริเดช': 'B', 'ลั่นฟ้า': 'A', 'พันทิพา': 'C', 'ทรงกรด': 'F'}"
      ]
     },
     "execution_count": 91,
     "metadata": {},
     "output_type": "execute_result"
    }
   ],
   "source": [
    "name_grade = {'พงศ์ศิริเดช':'B','ลั่นฟ้า':'A','พันทิพา':'C','ทรงกรด':'F'}\n",
    "name_grade"
   ]
  },
  {
   "cell_type": "code",
   "execution_count": 92,
   "metadata": {},
   "outputs": [
    {
     "data": {
      "text/plain": [
       "'A'"
      ]
     },
     "execution_count": 92,
     "metadata": {},
     "output_type": "execute_result"
    }
   ],
   "source": [
    "name_grade['ลั่นฟ้า']"
   ]
  },
  {
   "cell_type": "code",
   "execution_count": 95,
   "metadata": {},
   "outputs": [
    {
     "data": {
      "text/plain": [
       "dict_keys(['พงศ์ศิริเดช', 'ลั่นฟ้า', 'พันทิพา', 'ทรงกรด'])"
      ]
     },
     "execution_count": 95,
     "metadata": {},
     "output_type": "execute_result"
    }
   ],
   "source": [
    "name_grade.keys()"
   ]
  },
  {
   "cell_type": "markdown",
   "metadata": {},
   "source": [
    "### .keys() เป็นคำสั่งพิเศษ"
   ]
  },
  {
   "cell_type": "code",
   "execution_count": 94,
   "metadata": {},
   "outputs": [
    {
     "name": "stdout",
     "output_type": "stream",
     "text": [
      "พงศ์ศิริเดช\n",
      "ลั่นฟ้า\n",
      "พันทิพา\n",
      "ทรงกรด\n"
     ]
    }
   ],
   "source": [
    "for i in name_grade.keys():\n",
    "    print(i)"
   ]
  },
  {
   "cell_type": "code",
   "execution_count": 96,
   "metadata": {},
   "outputs": [
    {
     "name": "stdout",
     "output_type": "stream",
     "text": [
      "พงศ์ศิริเดช ได้เกรด B\n",
      "ลั่นฟ้า ได้เกรด A\n",
      "พันทิพา ได้เกรด C\n",
      "ทรงกรด ได้เกรด F\n"
     ]
    }
   ],
   "source": [
    "for i in name_grade.keys():\n",
    "    print(f'{i} ได้เกรด {name_grade[i]}')"
   ]
  },
  {
   "cell_type": "markdown",
   "metadata": {},
   "source": [
    "# conditional (เงื่อนไข)\n",
    "# == , != , >= , <= , < , >"
   ]
  },
  {
   "cell_type": "markdown",
   "metadata": {},
   "source": [
    "```python\n",
    "if condition1:\n",
    "    do someting\n",
    "elif condition2:\n",
    "    do another thing\n",
    "else:\n",
    "    do ...\n",
    "```"
   ]
  },
  {
   "cell_type": "code",
   "execution_count": 99,
   "metadata": {},
   "outputs": [
    {
     "name": "stdout",
     "output_type": "stream",
     "text": [
      "ไอซ์ love ฟาง\n",
      "ไอซ์ love เกต\n",
      "ไอซ์ love โด้\n",
      "ไอซ์ love นัท\n",
      "ไอซ์ love นกยูง\n",
      "ไอซ์ love บอส\n",
      "ฟาง love ไอซ์\n",
      "ฟาง love เกต\n",
      "ฟาง love โด้\n",
      "ฟาง love นัท\n",
      "ฟาง love นกยูง\n",
      "ฟาง love บอส\n",
      "เกต love ไอซ์\n",
      "เกต love ฟาง\n",
      "เกต love โด้\n",
      "เกต love นัท\n",
      "เกต love นกยูง\n",
      "เกต love บอส\n",
      "โด้ love ไอซ์\n",
      "โด้ love ฟาง\n",
      "โด้ love เกต\n",
      "โด้ love นัท\n",
      "โด้ love นกยูง\n",
      "โด้ love บอส\n",
      "นัท love ไอซ์\n",
      "นัท love ฟาง\n",
      "นัท love เกต\n",
      "นัท love โด้\n",
      "นัท love นกยูง\n",
      "นัท love บอส\n",
      "นกยูง love ไอซ์\n",
      "นกยูง love ฟาง\n",
      "นกยูง love เกต\n",
      "นกยูง love โด้\n",
      "นกยูง love นัท\n",
      "นกยูง love บอส\n",
      "บอส love ไอซ์\n",
      "บอส love ฟาง\n",
      "บอส love เกต\n",
      "บอส love โด้\n",
      "บอส love นัท\n",
      "บอส love นกยูง\n"
     ]
    }
   ],
   "source": [
    "for name1 in friend_list:\n",
    "    for name2 in friend_list:\n",
    "        if name1 != name2:\n",
    "            print_feeling(name1,'love',name2)"
   ]
  },
  {
   "cell_type": "code",
   "execution_count": 100,
   "metadata": {},
   "outputs": [
    {
     "name": "stdout",
     "output_type": "stream",
     "text": [
      "yes\n"
     ]
    }
   ],
   "source": [
    "if True:\n",
    "    print('yes')"
   ]
  },
  {
   "cell_type": "code",
   "execution_count": 102,
   "metadata": {},
   "outputs": [],
   "source": [
    "if False:\n",
    "    print('no')"
   ]
  },
  {
   "cell_type": "code",
   "execution_count": 103,
   "metadata": {},
   "outputs": [
    {
     "name": "stdout",
     "output_type": "stream",
     "text": [
      "no\n"
     ]
    }
   ],
   "source": [
    "if False:\n",
    "    print('yes')\n",
    "else:\n",
    "    print('no')"
   ]
  },
  {
   "cell_type": "code",
   "execution_count": 104,
   "metadata": {},
   "outputs": [
    {
     "data": {
      "text/plain": [
       "True"
      ]
     },
     "execution_count": 104,
     "metadata": {},
     "output_type": "execute_result"
    }
   ],
   "source": [
    "1 == 1"
   ]
  },
  {
   "cell_type": "code",
   "execution_count": 105,
   "metadata": {},
   "outputs": [
    {
     "name": "stdout",
     "output_type": "stream",
     "text": [
      "1=1\n"
     ]
    }
   ],
   "source": [
    "if 1 == 1:\n",
    "    print('1=1')"
   ]
  },
  {
   "cell_type": "markdown",
   "metadata": {},
   "source": [
    "# HW \n",
    "เขียน function ตัดเกรด โดยที่ input เป็น คะแนน(0-100) output เป็นเกรด (F-A)\n",
    "input = [1, 50, 65, 90, 101, -5, 49]"
   ]
  },
  {
   "cell_type": "code",
   "execution_count": 35,
   "metadata": {},
   "outputs": [],
   "source": [
    "def many_grade(grade):\n",
    "    if grade >= 80 :\n",
    "        print(f'{grade} ได้เกรด A')\n",
    "    elif 79 >= grade >= 75: \n",
    "         print(f'{grade} ได้เกรด B+')\n",
    "    elif 74 >= grade >= 70:\n",
    "        print(f'{grade} ได้เกรด B')\n",
    "    elif 69 >= grade >= 65:\n",
    "        print(f'{grade} ได้เกรด c+')\n",
    "    elif 64 >= grade >= 60:\n",
    "        print(f'{grade} ได้เกรด C')\n",
    "    elif 59 >= grade >= 55:\n",
    "        print(f'{grade} ได้เกรด D+')\n",
    "    elif 54 >= grade >= 50:\n",
    "        print(f'{grade} ได้เกรด D')\n",
    "    else:\n",
    "        print(f'{grade} ได้เกรด F')\n",
    "        "
   ]
  },
  {
   "cell_type": "code",
   "execution_count": 50,
   "metadata": {},
   "outputs": [
    {
     "name": "stdout",
     "output_type": "stream",
     "text": [
      "1 ได้เกรด F\n"
     ]
    }
   ],
   "source": [
    "many_grade(1)"
   ]
  },
  {
   "cell_type": "code",
   "execution_count": 49,
   "metadata": {},
   "outputs": [
    {
     "name": "stdout",
     "output_type": "stream",
     "text": [
      "50 ได้เกรด D\n"
     ]
    }
   ],
   "source": [
    "many_grade(50)"
   ]
  },
  {
   "cell_type": "code",
   "execution_count": 48,
   "metadata": {},
   "outputs": [
    {
     "name": "stdout",
     "output_type": "stream",
     "text": [
      "65 ได้เกรด c+\n"
     ]
    }
   ],
   "source": [
    "many_grade(65)"
   ]
  },
  {
   "cell_type": "code",
   "execution_count": 47,
   "metadata": {},
   "outputs": [
    {
     "name": "stdout",
     "output_type": "stream",
     "text": [
      "90 ได้เกรด A\n"
     ]
    }
   ],
   "source": [
    "many_grade(90)"
   ]
  },
  {
   "cell_type": "code",
   "execution_count": 46,
   "metadata": {},
   "outputs": [
    {
     "name": "stdout",
     "output_type": "stream",
     "text": [
      "101 ได้เกรด A\n"
     ]
    }
   ],
   "source": [
    "many_grade(101)"
   ]
  },
  {
   "cell_type": "code",
   "execution_count": 45,
   "metadata": {},
   "outputs": [
    {
     "name": "stdout",
     "output_type": "stream",
     "text": [
      "-5 ได้เกรด F\n"
     ]
    }
   ],
   "source": [
    "many_grade(-5)"
   ]
  },
  {
   "cell_type": "code",
   "execution_count": 44,
   "metadata": {},
   "outputs": [
    {
     "name": "stdout",
     "output_type": "stream",
     "text": [
      "49 ได้เกรด F\n"
     ]
    }
   ],
   "source": [
    "many_grade(49)"
   ]
  },
  {
   "cell_type": "code",
   "execution_count": null,
   "metadata": {},
   "outputs": [],
   "source": []
  }
 ],
 "metadata": {
  "kernelspec": {
   "display_name": "Python 3",
   "language": "python",
   "name": "python3"
  },
  "language_info": {
   "codemirror_mode": {
    "name": "ipython",
    "version": 3
   },
   "file_extension": ".py",
   "mimetype": "text/x-python",
   "name": "python",
   "nbconvert_exporter": "python",
   "pygments_lexer": "ipython3",
   "version": "3.7.3"
  }
 },
 "nbformat": 4,
 "nbformat_minor": 2
}
